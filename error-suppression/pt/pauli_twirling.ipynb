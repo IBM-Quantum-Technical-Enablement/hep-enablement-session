{
 "cells": [
  {
   "cell_type": "markdown",
   "id": "bc6d71e2",
   "metadata": {},
   "source": [
    "# Background"
   ]
  },
  {
   "cell_type": "markdown",
   "id": "1efb1b9e",
   "metadata": {},
   "source": [
    "Pauli-twirling is a quantum error suppression technique that uses randomization to noise shape coherent error into stochastic errors, by combining the results from many random, but logically equivalent circuits, together. This is beneficial because while incoherent errors add up linearly with circuit depth, coherent errors can scale quadratically. Here we will show how to generate Pauli-twirled circuits, where we focus on twirling two-qubit gates within a circuit. This technique has been used, for example, in this work by Kim et al.: arXiv:2108.09197. We will show how to compute the possible Pauli sets for any two-qubit gate, and show how to create a Qiskit `Passmanager` that implements the routine, and can be combined with other transpilation techniques."
   ]
  },
  {
   "attachments": {},
   "cell_type": "markdown",
   "id": "3caa77d2",
   "metadata": {},
   "source": [
    "![benefit_of_twirling.png](imgs/benefit_of_twirling.png)  \n",
    "Credits: Zlatko Minev, IBM Quantum (https://www.zlatko-minev.com/blog/twirling)"
   ]
  },
  {
   "cell_type": "code",
   "execution_count": 1,
   "id": "c2a9b66b",
   "metadata": {},
   "outputs": [],
   "source": [
    "import numpy as np\n",
    "from itertools import product\n",
    "\n",
    "from qiskit import *\n",
    "# Need gate classes for generating the Pauli twirling sets\n",
    "from qiskit.circuit.library import (IGate, XGate, YGate, ZGate,\n",
    "                                    CXGate, CZGate, ECRGate, iSwapGate)\n",
    "\n",
    "from qiskit.quantum_info import Operator\n",
    "# Classes for building up a directed-acyclic graph (DAG) structure\n",
    "from qiskit.circuit import QuantumRegister\n",
    "from qiskit.dagcircuit import DAGCircuit\n",
    "# Transpiler stuff neded to make a pass and passmanager\n",
    "from qiskit.transpiler import PassManager\n",
    "from qiskit.transpiler.basepasses import TransformationPass\n",
    "from qiskit.transpiler.passes import Optimize1qGatesDecomposition\n",
    "\n",
    "# A fake system to transpile against\n",
    "from qiskit.providers.fake_provider import FakeHanoiV2, FakeMumbai\n",
    "from qiskit.quantum_info import SparsePauliOp"
   ]
  },
  {
   "cell_type": "markdown",
   "id": "b2e9732d",
   "metadata": {},
   "source": [
    "# Setup: test circuit and backend"
   ]
  },
  {
   "cell_type": "code",
   "execution_count": 2,
   "id": "b7f003fe",
   "metadata": {},
   "outputs": [],
   "source": [
    "# Create Circuit\n",
    "def create_ghz_circuit(num_qubits):\n",
    "    ghz_circuit = QuantumCircuit(num_qubits, num_qubits)\n",
    "    ghz_circuit.h(0)\n",
    "    for qubit in range(1, num_qubits):\n",
    "        ghz_circuit.cx(0, qubit)\n",
    "\n",
    "    ghz_circuit.barrier()\n",
    "    ghz_circuit.measure(range(num_qubits), range(num_qubits))\n",
    "    \n",
    "    return ghz_circuit"
   ]
  },
  {
   "cell_type": "code",
   "execution_count": 3,
   "id": "344a4fe4",
   "metadata": {},
   "outputs": [],
   "source": [
    "num_qubits = 3\n",
    "circuit = create_ghz_circuit(num_qubits=num_qubits)\n",
    "operator = SparsePauliOp(\"Z\"*num_qubits)"
   ]
  },
  {
   "cell_type": "code",
   "execution_count": 4,
   "id": "dc4c28ce",
   "metadata": {},
   "outputs": [
    {
     "name": "stderr",
     "output_type": "stream",
     "text": [
      "/Users/haimengzhang/miniconda3/envs/runtime/lib/python3.11/site-packages/numpy/linalg/linalg.py:2154: RuntimeWarning: divide by zero encountered in det\n",
      "  r = _umath_linalg.det(a, signature=signature)\n",
      "/Users/haimengzhang/miniconda3/envs/runtime/lib/python3.11/site-packages/numpy/linalg/linalg.py:2154: RuntimeWarning: invalid value encountered in det\n",
      "  r = _umath_linalg.det(a, signature=signature)\n"
     ]
    }
   ],
   "source": [
    "backend = FakeHanoiV2()\n",
    "transpiled_circuit = transpile(circuit, backend=backend, optimization_level=3)"
   ]
  },
  {
   "cell_type": "markdown",
   "id": "e2234667",
   "metadata": {},
   "source": [
    "# PT Circuit transformation"
   ]
  },
  {
   "attachments": {},
   "cell_type": "markdown",
   "id": "99df7fba",
   "metadata": {},
   "source": [
    "![twirling_2q_gates.svg](imgs/twirling_2q_gates.svg)"
   ]
  },
  {
   "cell_type": "markdown",
   "id": "48225402",
   "metadata": {},
   "source": [
    "## Computing Pauli twirling gate sets"
   ]
  },
  {
   "cell_type": "markdown",
   "id": "f8293151",
   "metadata": {},
   "source": [
    "As the name suggests, we are going to look at using single qubit Pauli operators to reshape the noise in our circuits. Because the bulk of the error in a circuit resides with the two-qubit gates, here we focus on Pauli twirling two-qubit gates only.\n",
    "\n",
    "We are looking for sets of 4 Pauli gates that when pre-pended and appended to a circuit containing a two-qubit gate, the unitary is equal to that of the single two-qubit gate alone. This makes sense of course, as otherwise our circuit would not do what we want it to. We now need to figure out which combinations of Pauli gates satisfies this requirement. IBM Quantum systems have 3 different two-qubit entangling gates: CNOT, CZ, and ECR, and the corresponding Pauli combinations are obviously going to depend on which gate we are looking at. Now for common gates like CNOT, one can find tables of Paulis in the literature. However, for a gate like ECR, I am not sure such a table exists. We could compute these by hand, but here we are going to be smarter and let the computer do all the work for us.\n",
    "\n",
    "First, let us generate some instances of the Pauli gates, as well as a collection of 2Q gates:"
   ]
  },
  {
   "cell_type": "code",
   "execution_count": 5,
   "id": "47d2c182",
   "metadata": {},
   "outputs": [],
   "source": [
    "# Single qubit Pauli gates\n",
    "I = IGate()\n",
    "Z = ZGate()\n",
    "X = XGate()\n",
    "Y = YGate()\n",
    "\n",
    "# 2Q entangling gates\n",
    "CX = CXGate()\n",
    "CZ = CZGate()\n",
    "ECR = ECRGate()"
   ]
  },
  {
   "cell_type": "markdown",
   "id": "11807faf",
   "metadata": {},
   "source": [
    "Now let us put the computer to work finding all possible combinations of Paulis that leave the action of a two-qubit gate unchanged, up to a phase factor. Below we create a function that takes a Qiskit two-qubit gate as the input, and finds all the Pauli combinations by treating it as a 16 choose 4 problem, and letting Python generate all the possibilities. If the unitary remains unchanged, then we add the combination of Paulis to the output list, along with a phase value of Zero. However, if the unitaries differ by a phase factor of $\\pi$, we add a global phase of $\\pi$ "
   ]
  },
  {
   "cell_type": "code",
   "execution_count": 6,
   "id": "c392acb9",
   "metadata": {},
   "outputs": [],
   "source": [
    "def generate_pauli_twirling_sets(two_qubit_gate):\n",
    "    \"\"\"Generate the Pauli twirling sets for a given 2Q gate\n",
    "    \n",
    "    Sets are ordered such that gate[0] and gate[1] are pre-roations\n",
    "    applied to control and target, respectively.  gate[2] and gate[3]\n",
    "    are post-rotations for control and target, respectively.\n",
    "    \n",
    "    Parameters:\n",
    "        two_qubit_gate (Gate): Input two-qubit gate\n",
    "        \n",
    "    Returns:\n",
    "        list: List of all twirling gate sets\n",
    "    \"\"\"\n",
    "    pauli_gates_list = [I, Z, X, Y]\n",
    "    # This is the target unitary to which our twirled circuit should match\n",
    "    target_unitary = Operator(two_qubit_gate.to_matrix())\n",
    "    twirling_sets = []\n",
    "    \n",
    "    # For every combination in 16 choose 4 make a circuit and look for equivilence\n",
    "    for gates in product(pauli_gates_list, repeat=4):\n",
    "        # Build a circuit for our twirled 2Q gate\n",
    "        qc = QuantumCircuit(2)\n",
    "        qc.append(gates[0], [0])\n",
    "        qc.append(gates[1], [1])\n",
    "        qc.append(two_qubit_gate, [0, 1])\n",
    "        qc.append(gates[2], [0])\n",
    "        qc.append(gates[3], [1])\n",
    "        \n",
    "        norm = np.linalg.norm(Operator.from_circuit(qc)-target_unitary)\n",
    "        \n",
    "        phase = None\n",
    "        # If unitaries match we have a phase of zero\n",
    "        if abs(norm) < 1e-15:\n",
    "            phase = 0\n",
    "        # If unitaries differ by a phase of pi, shift by pi\n",
    "        elif abs(norm-4) < 1e-15:\n",
    "            phase = np.pi\n",
    "\n",
    "        if phase is not None:\n",
    "            qc.global_phase += phase\n",
    "            # Verify that our twirled circuit is a valid replacement\n",
    "            assert Operator.from_circuit(qc) == target_unitary\n",
    "            twirl_set = (gates, phase)\n",
    "            # Check that set does not already exist\n",
    "            if twirl_set not in twirling_sets:\n",
    "                twirling_sets.append(twirl_set)\n",
    "            \n",
    "    return twirling_sets"
   ]
  },
  {
   "cell_type": "markdown",
   "id": "e437943d",
   "metadata": {},
   "source": [
    "With this function in hand, we are now in a position to generate the Pauli twirling sets for any two-qubit gate that Qiskit understands. Here we generate the sets for each of the two-qubit gate instances above. In preparation for using them later, we store the sets in a dictionary with the gate name as the key. In practice you should do this once, and then cache / hard-code the results for fast retrieval."
   ]
  },
  {
   "cell_type": "code",
   "execution_count": 7,
   "id": "26b2be21",
   "metadata": {},
   "outputs": [],
   "source": [
    "twirling_groups = {} \n",
    "\n",
    "for gate in [CX, CZ, ECR]:\n",
    "    twirl_set = generate_pauli_twirling_sets(gate)\n",
    "    twirling_groups[gate.name] = twirl_set"
   ]
  },
  {
   "cell_type": "markdown",
   "id": "b1285850",
   "metadata": {},
   "source": [
    "For example, here is the set for the CNOT (CX) gate. We see that two of the twirling sets have a non-zero phase factor."
   ]
  },
  {
   "cell_type": "code",
   "execution_count": 8,
   "id": "a24eeba8",
   "metadata": {},
   "outputs": [
    {
     "data": {
      "text/plain": [
       "[((Instruction(name='id', num_qubits=1, num_clbits=0, params=[]),\n",
       "   Instruction(name='id', num_qubits=1, num_clbits=0, params=[]),\n",
       "   Instruction(name='id', num_qubits=1, num_clbits=0, params=[]),\n",
       "   Instruction(name='id', num_qubits=1, num_clbits=0, params=[])),\n",
       "  0),\n",
       " ((Instruction(name='id', num_qubits=1, num_clbits=0, params=[]),\n",
       "   Instruction(name='z', num_qubits=1, num_clbits=0, params=[]),\n",
       "   Instruction(name='z', num_qubits=1, num_clbits=0, params=[]),\n",
       "   Instruction(name='z', num_qubits=1, num_clbits=0, params=[])),\n",
       "  0),\n",
       " ((Instruction(name='id', num_qubits=1, num_clbits=0, params=[]),\n",
       "   Instruction(name='x', num_qubits=1, num_clbits=0, params=[]),\n",
       "   Instruction(name='id', num_qubits=1, num_clbits=0, params=[]),\n",
       "   Instruction(name='x', num_qubits=1, num_clbits=0, params=[])),\n",
       "  0),\n",
       " ((Instruction(name='id', num_qubits=1, num_clbits=0, params=[]),\n",
       "   Instruction(name='y', num_qubits=1, num_clbits=0, params=[]),\n",
       "   Instruction(name='z', num_qubits=1, num_clbits=0, params=[]),\n",
       "   Instruction(name='y', num_qubits=1, num_clbits=0, params=[])),\n",
       "  0),\n",
       " ((Instruction(name='z', num_qubits=1, num_clbits=0, params=[]),\n",
       "   Instruction(name='id', num_qubits=1, num_clbits=0, params=[]),\n",
       "   Instruction(name='z', num_qubits=1, num_clbits=0, params=[]),\n",
       "   Instruction(name='id', num_qubits=1, num_clbits=0, params=[])),\n",
       "  0),\n",
       " ((Instruction(name='z', num_qubits=1, num_clbits=0, params=[]),\n",
       "   Instruction(name='z', num_qubits=1, num_clbits=0, params=[]),\n",
       "   Instruction(name='id', num_qubits=1, num_clbits=0, params=[]),\n",
       "   Instruction(name='z', num_qubits=1, num_clbits=0, params=[])),\n",
       "  0),\n",
       " ((Instruction(name='z', num_qubits=1, num_clbits=0, params=[]),\n",
       "   Instruction(name='x', num_qubits=1, num_clbits=0, params=[]),\n",
       "   Instruction(name='z', num_qubits=1, num_clbits=0, params=[]),\n",
       "   Instruction(name='x', num_qubits=1, num_clbits=0, params=[])),\n",
       "  0),\n",
       " ((Instruction(name='z', num_qubits=1, num_clbits=0, params=[]),\n",
       "   Instruction(name='y', num_qubits=1, num_clbits=0, params=[]),\n",
       "   Instruction(name='id', num_qubits=1, num_clbits=0, params=[]),\n",
       "   Instruction(name='y', num_qubits=1, num_clbits=0, params=[])),\n",
       "  0),\n",
       " ((Instruction(name='x', num_qubits=1, num_clbits=0, params=[]),\n",
       "   Instruction(name='id', num_qubits=1, num_clbits=0, params=[]),\n",
       "   Instruction(name='x', num_qubits=1, num_clbits=0, params=[]),\n",
       "   Instruction(name='x', num_qubits=1, num_clbits=0, params=[])),\n",
       "  0),\n",
       " ((Instruction(name='x', num_qubits=1, num_clbits=0, params=[]),\n",
       "   Instruction(name='z', num_qubits=1, num_clbits=0, params=[]),\n",
       "   Instruction(name='y', num_qubits=1, num_clbits=0, params=[]),\n",
       "   Instruction(name='y', num_qubits=1, num_clbits=0, params=[])),\n",
       "  3.141592653589793),\n",
       " ((Instruction(name='x', num_qubits=1, num_clbits=0, params=[]),\n",
       "   Instruction(name='x', num_qubits=1, num_clbits=0, params=[]),\n",
       "   Instruction(name='x', num_qubits=1, num_clbits=0, params=[]),\n",
       "   Instruction(name='id', num_qubits=1, num_clbits=0, params=[])),\n",
       "  0),\n",
       " ((Instruction(name='x', num_qubits=1, num_clbits=0, params=[]),\n",
       "   Instruction(name='y', num_qubits=1, num_clbits=0, params=[]),\n",
       "   Instruction(name='y', num_qubits=1, num_clbits=0, params=[]),\n",
       "   Instruction(name='z', num_qubits=1, num_clbits=0, params=[])),\n",
       "  0),\n",
       " ((Instruction(name='y', num_qubits=1, num_clbits=0, params=[]),\n",
       "   Instruction(name='id', num_qubits=1, num_clbits=0, params=[]),\n",
       "   Instruction(name='y', num_qubits=1, num_clbits=0, params=[]),\n",
       "   Instruction(name='x', num_qubits=1, num_clbits=0, params=[])),\n",
       "  0),\n",
       " ((Instruction(name='y', num_qubits=1, num_clbits=0, params=[]),\n",
       "   Instruction(name='z', num_qubits=1, num_clbits=0, params=[]),\n",
       "   Instruction(name='x', num_qubits=1, num_clbits=0, params=[]),\n",
       "   Instruction(name='y', num_qubits=1, num_clbits=0, params=[])),\n",
       "  0),\n",
       " ((Instruction(name='y', num_qubits=1, num_clbits=0, params=[]),\n",
       "   Instruction(name='x', num_qubits=1, num_clbits=0, params=[]),\n",
       "   Instruction(name='y', num_qubits=1, num_clbits=0, params=[]),\n",
       "   Instruction(name='id', num_qubits=1, num_clbits=0, params=[])),\n",
       "  0),\n",
       " ((Instruction(name='y', num_qubits=1, num_clbits=0, params=[]),\n",
       "   Instruction(name='y', num_qubits=1, num_clbits=0, params=[]),\n",
       "   Instruction(name='x', num_qubits=1, num_clbits=0, params=[]),\n",
       "   Instruction(name='z', num_qubits=1, num_clbits=0, params=[])),\n",
       "  3.141592653589793)]"
      ]
     },
     "execution_count": 8,
     "metadata": {},
     "output_type": "execute_result"
    }
   ],
   "source": [
    "twirling_groups['cx']"
   ]
  },
  {
   "cell_type": "markdown",
   "id": "85b93115",
   "metadata": {},
   "source": [
    "### Twirling Qiskit circuits"
   ]
  },
  {
   "cell_type": "markdown",
   "id": "0fb78d12",
   "metadata": {},
   "source": [
    "With our twirling sets in hand, we are now in a position to apply Pauli twirling to a given circuit. Pauli twirling is a circuit transformation and thus is best utilized as a transpilation pass. Below is a pass called `PauliTwirling` that performs twirling on a specific two-qubit gate, and utilizes the dictionary of twirling sets that we generated above."
   ]
  },
  {
   "cell_type": "code",
   "execution_count": 9,
   "id": "e9bae22a",
   "metadata": {},
   "outputs": [],
   "source": [
    "class PauliTwirling(TransformationPass):\n",
    "    \"\"\"Pauli twirl an input circuit.\n",
    "    \"\"\"\n",
    "    def __init__(self, twirling_gate, seed=None):\n",
    "        \"\"\"\n",
    "        Parameters:\n",
    "            twirling_gate (str): Which gate to twirl\n",
    "            seed (int): Seed for RNG, should be < 2e32\n",
    "        \"\"\"\n",
    "        super().__init__()\n",
    "        # This is the target gate to twirl\n",
    "        self.twirling_gate = twirling_gate\n",
    "        # Get the twirling set from the dict we generated above\n",
    "        # This should be repalced by a cached version in practice\n",
    "        self.twirling_set = twirling_groups[twirling_gate]\n",
    "        # Length of the twirling set to bound RNG generation\n",
    "        self.twirling_len = len(self.twirling_set)\n",
    "        # Seed the NumPy RNG\n",
    "        self.rng = np.random.default_rng(seed)\n",
    "\n",
    "    def run(self, dag):\n",
    "        \"\"\"Insert Pauli twirls into input DAG\n",
    "        \n",
    "        Parameters:\n",
    "            dag (DAGCircuit): Input DAG\n",
    "        \n",
    "        Returns:\n",
    "            dag: DAG with twirls added in-place\n",
    "        \"\"\"\n",
    "        for run in dag.collect_runs([self.twirling_gate]):\n",
    "            for node in run:\n",
    "                # Generate a random int to specify the twirling gates\n",
    "                twirl_idx = self.rng.integers(0, self.twirling_len)\n",
    "                # Get the randomly selected twirling set\n",
    "                twirl_gates = self.twirling_set[twirl_idx][0]\n",
    "                twirl_phase = self.twirling_set[twirl_idx][1]\n",
    "                # Make a small DAG for the twirled circuit we are going to insert\n",
    "                twirl_dag = DAGCircuit()\n",
    "                # Add a register of qubits (here always 2Q)\n",
    "                qreg = QuantumRegister(2)\n",
    "                twirl_dag.add_qreg(qreg)\n",
    "                # gate[0] pre-applied to control\n",
    "                twirl_dag.apply_operation_back(twirl_gates[0], [qreg[0]])\n",
    "                # gate[1] pre-applied to target\n",
    "                twirl_dag.apply_operation_back(twirl_gates[1], [qreg[1]])\n",
    "                # Insert original gate\n",
    "                twirl_dag.apply_operation_back(node.op, [qreg[0], qreg[1]])\n",
    "                # gate[2] pre-applied to control\n",
    "                twirl_dag.apply_operation_back(twirl_gates[2], [qreg[0]])\n",
    "                # gate[3] pre-applied to target\n",
    "                twirl_dag.apply_operation_back(twirl_gates[3], [qreg[1]])\n",
    "                # Add a global phase gate to account for possible phase difference\n",
    "                twirl_dag.global_phase += twirl_phase\n",
    "                # Replace the target gate with the twirled version\n",
    "                dag.substitute_node_with_dag(node, twirl_dag)\n",
    "        return dag"
   ]
  },
  {
   "cell_type": "code",
   "execution_count": 10,
   "id": "a36e9d14",
   "metadata": {},
   "outputs": [],
   "source": [
    "pm = PassManager([PauliTwirling('cx', seed=54321)])"
   ]
  },
  {
   "cell_type": "markdown",
   "id": "834fe5ba",
   "metadata": {},
   "source": [
    "We suggest always twirl a *transpiled* circuit as an input circuit is written using most convenient gates, e.g., 3+ qubit gates, non-basis gates, etc. When the gates do not match the two-qubit basis gate of the system, we need to transpile first, and then twirl."
   ]
  },
  {
   "cell_type": "code",
   "execution_count": 11,
   "id": "f7207d6f",
   "metadata": {},
   "outputs": [
    {
     "data": {
      "image/png": "[encoded data removed]",
      "text/plain": [
       "<Figure size 1207.22x367.889 with 1 Axes>"
      ]
     },
     "execution_count": 11,
     "metadata": {},
     "output_type": "execute_result"
    }
   ],
   "source": [
    "twirl_qc = pm.run(transpiled_circuit)\n",
    "twirl_qc.draw('mpl', idle_wires=False)"
   ]
  },
  {
   "cell_type": "markdown",
   "id": "bd945357",
   "metadata": {},
   "source": [
    "The twirled circuit can be further optimized in terms of single qubit gates. As such, we construct as new Passmanager that does the Pauli twirling, and then performs single-qubit gate optimization."
   ]
  },
  {
   "cell_type": "code",
   "execution_count": 12,
   "id": "ccb53750",
   "metadata": {},
   "outputs": [],
   "source": [
    "post_pm = PassManager([PauliTwirling('cx', seed=54321), \n",
    "                       Optimize1qGatesDecomposition(backend.target.operation_names)])"
   ]
  },
  {
   "cell_type": "code",
   "execution_count": 13,
   "id": "5a15ae83",
   "metadata": {},
   "outputs": [
    {
     "data": {
      "image/png": "[encoded data removed]",
      "text/plain": [
       "<Figure size 1123.61x367.889 with 1 Axes>"
      ]
     },
     "execution_count": 13,
     "metadata": {},
     "output_type": "execute_result"
    }
   ],
   "source": [
    "post_twirl_qc = post_pm.run(transpiled_circuit)\n",
    "post_twirl_qc.draw('mpl', idle_wires=False)"
   ]
  },
  {
   "cell_type": "code",
   "execution_count": 14,
   "id": "8cab76c8",
   "metadata": {},
   "outputs": [],
   "source": [
    "num_twirls = 3\n",
    "twirl_qc_list = [post_pm.run(transpiled_circuit) for _ in range(num_twirls)]"
   ]
  },
  {
   "cell_type": "code",
   "execution_count": 15,
   "id": "e4b3e3a3",
   "metadata": {},
   "outputs": [
    {
     "data": {
      "image/png": "[encoded data removed]",
      "text/plain": [
       "<Figure size 1040x367.889 with 1 Axes>"
      ]
     },
     "execution_count": 15,
     "metadata": {},
     "output_type": "execute_result"
    }
   ],
   "source": [
    "twirl_qc_list[0].draw(\"mpl\", idle_wires=False)"
   ]
  },
  {
   "cell_type": "code",
   "execution_count": 16,
   "id": "26139e45",
   "metadata": {},
   "outputs": [
    {
     "data": {
      "image/png": "[encoded data removed]",
      "text/plain": [
       "<Figure size 1040x367.889 with 1 Axes>"
      ]
     },
     "execution_count": 16,
     "metadata": {},
     "output_type": "execute_result"
    }
   ],
   "source": [
    "twirl_qc_list[1].draw(\"mpl\", idle_wires=False)"
   ]
  },
  {
   "cell_type": "markdown",
   "id": "cbb211a9",
   "metadata": {},
   "source": [
    "## Execution"
   ]
  },
  {
   "cell_type": "markdown",
   "id": "585729b2",
   "metadata": {},
   "source": [
    "When twirling, the number of shots per circuit is usually reduced. That is to say that, if before you ran one circuit 10000 times, then you can try executing 10 twirled circuits with 1000 shots each, or 100 circuits at 100 shots, etc. Keep in mind that the IBM Quantum infrastructure is optimized for many shots per circuit, and therefore it will take longer to run more circuits at fewer shots. But, if you want to try to improve your results, it might be a trade-off worth making."
   ]
  },
  {
   "cell_type": "code",
   "execution_count": 17,
   "id": "fa7f0cc5",
   "metadata": {},
   "outputs": [],
   "source": [
    "shots_per_twirl = 10000 // len(twirl_qc_list)\n",
    "counts = backend.run(twirl_qc_list, shots=shots_per_twirl).result().get_counts()"
   ]
  },
  {
   "cell_type": "markdown",
   "id": "7a3d4d23",
   "metadata": {},
   "source": [
    "## Result Post-processing"
   ]
  },
  {
   "cell_type": "markdown",
   "id": "262c9970",
   "metadata": {},
   "source": [
    "Post-processing for Pauli Twirling involves *aggregating* the results. It can be aggregating the `Counts` dictionaries or averaging the probability distribution across many twirls."
   ]
  },
  {
   "cell_type": "code",
   "execution_count": 18,
   "id": "d9ff1083",
   "metadata": {},
   "outputs": [],
   "source": [
    "def aggregate_data(data, normalize=False):\n",
    "    \"\"\"Function to aggregate data from many twirls.\n",
    "    When `normalize=False`, it adds `values` per `key` across all twirls.\n",
    "    When `normalize=True`, it averages `values` per `key` across all twirls.\n",
    "    For (quasi) probability distributions, we should normalize (average) the aggregated probabilities.\n",
    "    \n",
    "    Example-1: Consider `Counts` for 3 twirls: {'0': 400, '1': 600}, {'0': 500, '1': 500}, {'0': 600, '1': 400}.\n",
    "    After aggregation (with `normalize=False`), it will return a single aggregated dictionary {'0': 1500, '1': 1500}.\n",
    "    \n",
    "    Example-2: Consider quasi distribution for 3 twirls: {'0': 0.4, '1': 0.6}, {'0': 0.5, '1': 0.5}, {'0': 0.6, '1': 0.4}.\n",
    "    After aggregation (with `normalize=True`), it will return a single aggregated dictionary\n",
    "    {'0': (0.4+0.5+0.6)/3, '1': (0.6+0.5+0.4)/3} = {'0': 0.5, '1': 0.5}.\n",
    "    \"\"\"\n",
    "    aggregated = {}\n",
    "\n",
    "    total = len(data) if normalize else 1\n",
    "    \n",
    "    for dist in data:\n",
    "        for key in dist:\n",
    "            aggregated[key] = aggregated.get(key, 0) + (dist[key]/total)\n",
    "            \n",
    "    return aggregated"
   ]
  },
  {
   "cell_type": "code",
   "execution_count": 19,
   "id": "39ed4202",
   "metadata": {},
   "outputs": [],
   "source": [
    "counts_agg = aggregate_data(data=counts, normalize=False)"
   ]
  },
  {
   "cell_type": "code",
   "execution_count": 20,
   "id": "9f225241",
   "metadata": {},
   "outputs": [
    {
     "name": "stdout",
     "output_type": "stream",
     "text": [
      "Counts twirl-0: {'101': 18, '000': 1614, '010': 13, '001': 20, '100': 30, '110': 19, '011': 21, '111': 1598}\n",
      "Counts twirl-1: {'110': 24, '001': 19, '100': 30, '011': 27, '111': 1551, '010': 20, '000': 1644, '101': 18}\n",
      "Counts twirl-2: {'101': 23, '100': 31, '110': 9, '001': 15, '111': 1609, '011': 18, '010': 14, '000': 1614}\n"
     ]
    }
   ],
   "source": [
    "for i in range(len(twirl_qc_list)):\n",
    "    print(f\"Counts twirl-{i}: {counts[i]}\")"
   ]
  },
  {
   "cell_type": "code",
   "execution_count": 21,
   "id": "0d7c4046",
   "metadata": {},
   "outputs": [
    {
     "name": "stdout",
     "output_type": "stream",
     "text": [
      "aggregated counts {'101': 59.0, '000': 4872.0, '010': 47.0, '001': 54.0, '100': 91.0, '110': 52.0, '011': 66.0, '111': 4758.0}\n"
     ]
    }
   ],
   "source": [
    "print(f\"aggregated counts {counts_agg}\")"
   ]
  },
  {
   "cell_type": "code",
   "execution_count": 22,
   "id": "115c9d04",
   "metadata": {},
   "outputs": [
    {
     "name": "stdout",
     "output_type": "stream",
     "text": [
      "numpy version 1.23.5\n",
      "qiskit runtime version 0.13.0\n"
     ]
    },
    {
     "data": {
      "text/html": [
       "<h3>Version Information</h3><table><tr><th>Software</th><th>Version</th></tr><tr><td><code>qiskit</code></td><td>0.44.3</td></tr><tr><td><code>qiskit-terra</code></td><td>0.25.3</td></tr><tr><td><code>qiskit_ibm_provider</code></td><td>0.7.2</td></tr><tr><td><code>qiskit_ibm_runtime</code></td><td>0.13.0</td></tr><tr><td><code>qiskit_aer</code></td><td>0.13.0</td></tr><tr><th colspan='2'>System information</th></tr><tr><td>Python version</td><td>3.11.6</td></tr><tr><td>Python compiler</td><td>Clang 15.0.7 </td></tr><tr><td>Python build</td><td>main, Oct  3 2023 10:37:07</td></tr><tr><td>OS</td><td>Darwin</td></tr><tr><td>CPUs</td><td>10</td></tr><tr><td>Memory (Gb)</td><td>64.0</td></tr><tr><td colspan='2'>Wed Nov 01 12:52:30 2023 EDT</td></tr></table>"
      ],
      "text/plain": [
       "<IPython.core.display.HTML object>"
      ]
     },
     "metadata": {},
     "output_type": "display_data"
    }
   ],
   "source": [
    "import numpy\n",
    "print(f\"numpy version {numpy.__version__}\")\n",
    "\n",
    "import qiskit_ibm_runtime\n",
    "print(f\"qiskit runtime version {qiskit_ibm_runtime.version.get_version_info()}\")\n",
    "\n",
    "import qiskit.tools.jupyter\n",
    "%qiskit_version_table"
   ]
  }
 ],
 "metadata": {
  "kernelspec": {
   "display_name": "Python 3 (ipykernel)",
   "language": "python",
   "name": "python3"
  },
  "language_info": {
   "codemirror_mode": {
    "name": "ipython",
    "version": 3
   },
   "file_extension": ".py",
   "mimetype": "text/x-python",
   "name": "python",
   "nbconvert_exporter": "python",
   "pygments_lexer": "ipython3",
   "version": "3.11.6"
  }
 },
 "nbformat": 4,
 "nbformat_minor": 5
}
